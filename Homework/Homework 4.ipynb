{
 "cells": [
  {
   "cell_type": "markdown",
   "id": "higher-bulgarian",
   "metadata": {},
   "source": [
    "### Problem 1 (10 Points)\n",
    "\n",
    "Sketch graphically the problem \n",
    "\n",
    "$$\n",
    "\\begin{aligned}\n",
    "\\min_{x_1,x_2} & \\quad f({\\bf x})=(x_1+1)^2+(x_2-2)^2\\\\\n",
    "{\\text{subject to }} & \\quad g_1 = x_1-2\\leq 0,{\\quad} g_3 = -x_1\\leq 0,\\\\\n",
    "& \\quad g_2 = x_2-1\\leq 0, {\\quad} g_4 = -x_2\\leq 0.\n",
    "\\end{aligned}\n",
    "$$\n",
    "\n",
    "Find the optimum graphically. Determine directions of feasible descent at the corner points of the feasible domain. Show the gradient directions of $f$ and $g_i$s at these points. Verify graphical results analytically using the KKT conditions."
   ]
  },
  {
   "cell_type": "markdown",
   "id": "178edfb9",
   "metadata": {},
   "source": [
    "![Q1-1](HW4img/Q1-1.png)\n",
    "![Q1-2](HW4img/Q1-2.png)\n",
    "![Q1-3](HW4img/Q1-3.png)"
   ]
  },
  {
   "cell_type": "markdown",
   "id": "68ef0fac",
   "metadata": {},
   "source": [
    "### Problem 2 (10 Points)\n",
    "\n",
    "Graph the problem \n",
    "\n",
    "$$\n",
    "\\begin{aligned}\n",
    "\\min_{x_1,x_2} & \\quad  f=-x_1\\\\\n",
    "{\\text{subject to }} & \\quad g_1=x_2-(1-x_1)^3\\leq 0{\\quad} {\\rm and}{\\quad} x_2\\geq 0.\n",
    "\\end{aligned}\n",
    "$$ \n",
    "\n",
    "Find the solution graphically. Then apply the optimality conditions. Can you find a solution based on the optimality conditions? Why? (From Kuhn and Tucker, 1951.)"
   ]
  },
  {
   "cell_type": "markdown",
   "id": "30959b7d",
   "metadata": {},
   "source": [
    "![Q2](HW4img/Q2.png)"
   ]
  },
  {
   "cell_type": "markdown",
   "id": "614e7b08",
   "metadata": {},
   "source": [
    "\n",
    "### Problem 3 (30 Points)\n",
    "\n",
    "Find a local solution to the problem \n",
    "\n",
    "$$\n",
    "\\begin{aligned}\n",
    "\\max_{x_1,x_2,x_3} & \\quad  f=x_1x_2+x_2x_3+x_1x_3\\\\\n",
    "{\\text{subject to }} & \\quad h=x_1+x_2+x_3-3=0.\n",
    "\\end{aligned}\n",
    "$$ \n",
    "\n",
    "Use two methods: reduced gradient and Lagrange multipliers.\n"
   ]
  },
  {
   "cell_type": "markdown",
   "id": "d45b4fdd",
   "metadata": {},
   "source": [
    "![Q3-1](HW4img/Q3-1.png)\n",
    "![Q3-2](HW4img/Q3-2.png)\n",
    "![Q3-3](HW4img/Q3-3.png)"
   ]
  },
  {
   "cell_type": "markdown",
   "id": "ce8ea6e4",
   "metadata": {},
   "source": [
    "### Problem 4 (20 Points)\n",
    "\n",
    "Use reduced gradient to\tfind the value(s) of the parameter $b$ for which the point $x_1=1$, $x_2=2$ is the solution to the problem \n",
    "\n",
    "$$\n",
    "\\begin{aligned}\n",
    "\\max_{x_1,x_2} & \\quad  f=2x_{1} + bx_2\\\\\n",
    "{\\text{subject to }} & \\quad g_1 = x_{1}^{2}+ x_{2}^{2}-5\\leq 0\\\\\n",
    "& \\quad g_2= x_1- x_2-2\\leq 0.\n",
    "\\end{aligned}\n",
    "$$ "
   ]
  },
  {
   "cell_type": "markdown",
   "id": "8b97b715",
   "metadata": {},
   "source": [
    "![Q4](HW4img/Q4.png)"
   ]
  },
  {
   "cell_type": "markdown",
   "id": "66c9868f",
   "metadata": {},
   "source": [
    "### Problem 5 (30 Points)\n",
    "\n",
    "Find the solution for \n",
    "\n",
    "$$\n",
    "\\begin{aligned}\n",
    "\\min_{x_1,x_2,x_3} & \\quad  f=x_{1}^{2}+x_{2}^{2}+x_{3}^{2}\\\\\n",
    "{\\text{subject to }} & \\quad h_1 = x_{1}^{2}/4+x_{2}^{2}/5+x_{3}^{2}/25-1=0\\\\\n",
    "& \\quad h_2 = x_1+x_2-x_3= 0,\n",
    "\\end{aligned}\n",
    "$$ \n",
    "\n",
    "by implementing the generalized reduced gradient algorithm."
   ]
  },
  {
   "cell_type": "code",
   "execution_count": 11,
   "id": "87e383b3",
   "metadata": {},
   "outputs": [
    {
     "ename": "IndentationError",
     "evalue": "expected an indented block (<ipython-input-11-6fbb52027049>, line 20)",
     "output_type": "error",
     "traceback": [
      "\u001b[1;36m  File \u001b[1;32m\"<ipython-input-11-6fbb52027049>\"\u001b[1;36m, line \u001b[1;32m20\u001b[0m\n\u001b[1;33m    x0 = [0, 0, 0]\u001b[0m\n\u001b[1;37m    ^\u001b[0m\n\u001b[1;31mIndentationError\u001b[0m\u001b[1;31m:\u001b[0m expected an indented block\n"
     ]
    }
   ],
   "source": [
    "import numpy as np\n",
    "import math\n",
    "\n",
    "#say d = x1 => s = [x2;x3]=[0;0]\n",
    "\n",
    "func = lambda x: x[0]**2 + x[1]**2 + x[2]**2\n",
    "\n",
    "daifdaid = lambda x: 2 * x[0]\n",
    "daifdais = lambda x: np.array([2 * x[1], 2 * x[2]])\n",
    "daihdais = lambda x: np.array([[(2 * x[1]) / 6, (2 * x[2]) / 25],[1, -1]])\n",
    "daihdaid = lambda x: np.array([[x[1] / 2], [1]])\n",
    "dfdd = lambda x:  daifdaid(x) - daifdais(x) * np.linalg.inv(daihdais(x)) * daihdaid(x)\n",
    "\n",
    "def linsrch(a, b):\n",
    "    step = 0.5\n",
    "    \n",
    "    \n",
    "def descent(a, b):\n",
    "\n",
    "x0 = [0, 0, 0]\n",
    "errorCrit = 0.001\n",
    "count = 0\n",
    "soln = [0]\n",
    "error = np.linalg.norm(dfdd(x))\n",
    "step = 0.001"
   ]
  },
  {
   "cell_type": "code",
   "execution_count": null,
   "id": "ce0a7fbf",
   "metadata": {},
   "outputs": [],
   "source": []
  }
 ],
 "metadata": {
  "kernelspec": {
   "display_name": "Python 3",
   "language": "python",
   "name": "python3"
  },
  "language_info": {
   "codemirror_mode": {
    "name": "ipython",
    "version": 3
   },
   "file_extension": ".py",
   "mimetype": "text/x-python",
   "name": "python",
   "nbconvert_exporter": "python",
   "pygments_lexer": "ipython3",
   "version": "3.8.8"
  },
  "pycharm": {
   "stem_cell": {
    "cell_type": "raw",
    "metadata": {
     "collapsed": false
    },
    "source": []
   }
  }
 },
 "nbformat": 4,
 "nbformat_minor": 5
}
