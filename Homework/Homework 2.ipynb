{
 "cells": [
  {
   "cell_type": "markdown",
   "id": "touched-logic",
   "metadata": {},
   "source": [
    "# Theory/Computation Problems\n",
    "\n",
    "### Problem 1 (20 points) \n",
    "Show that the stationary point (zero gradient) of the function\n",
    "$$\n",
    "\\begin{aligned}\n",
    "    f=2x_{1}^{2} - 4x_1 x_2+ 1.5x^{2}_{2}+ x_2\n",
    "\\end{aligned}\n",
    "$$\n",
    "is a saddle (with indefinite Hessian). Find the directions of downslopes away from the saddle. Hint: Use Taylor's expansion at the saddle point. Find directions that reduce $f$."
   ]
  },
  {
   "cell_type": "markdown",
   "id": "bbe75bdd",
   "metadata": {},
   "source": [
    "![q1p1](HW2img/q1p1.png)\n",
    "![q1p2](HW2img/q1p2.png)"
   ]
  },
  {
   "cell_type": "markdown",
   "id": "ef4c9bf9",
   "metadata": {},
   "source": [
    "### Problem 2 (50 points) \n",
    "\n",
    "* (10 points) Find the point in the plane $x_1+2x_2+3x_3=1$ in $\\mathbb{R}^3$ that is nearest to the point $(-1,0,1)^T$. Is this a convex problem? Hint: Convert the problem into an unconstrained problem using $x_1+2x_2+3x_3=1$.\n",
    "\n",
    "* (40 points) Implement the gradient descent and Newton's algorithm for solving the problem. Attach your codes along with a short summary including (1) the initial points tested, (2) corresponding solutions, (3) a log-linear convergence plot."
   ]
  },
  {
   "cell_type": "markdown",
   "id": "93d96c54",
   "metadata": {},
   "source": [
    "![q2](HW2img/q2.png)"
   ]
  },
  {
   "cell_type": "code",
   "execution_count": 34,
   "id": "6f4c9fc8",
   "metadata": {
    "scrolled": false
   },
   "outputs": [
    {
     "data": {
      "image/png": "[encoded data removed]",
      "text/plain": [
       "<Figure size 432x288 with 1 Axes>"
      ]
     },
     "metadata": {
      "needs_background": "light"
     },
     "output_type": "display_data"
    }
   ],
   "source": [
    "import numpy as np\n",
    "from matplotlib import pyplot as plt\n",
    "\n",
    "obj = lambda x: (5*x[1]**2+12*x[1]*x[2]-8*x[1]+10*x[2]**2-14*x[2]+5) #x[0] is x2 x[1] is x3\n",
    "def grad(x):\n",
    "    return [10*x[0]+12*x[1]-8, 12*x[0]+20*x[1]-14]\n",
    "\n",
    "eps = 1e-3  # termination criterion\n",
    "x0 = [0., 0.]  # initial guess\n",
    "k = 0  # counter\n",
    "soln = [x0]  # use an array to store the search steps\n",
    "x = soln[k]  # start with the initial guess\n",
    "error = np.linalg.norm(grad(x)) \n",
    "a = 0.01  # set a fixed step size to start with\n",
    "\n",
    "while error >= eps:  # keep searching while gradient norm is larger than eps\n",
    "    x = np.array(x) - a*np.array(grad(x))\n",
    "    soln.append(x)\n",
    "    error = np.linalg.norm(grad(x))\n",
    "    \n",
    "#print(soln)  # print the search trajectory\n",
    "\n",
    "error2_c1 = np.asarray([]) #x2 error\n",
    "error2_c2 = np.asarray([]) #x3 error\n",
    "\n",
    "for i in range(1, np.size(soln,0)):\n",
    "    converge_error = np.array(soln[i]) - np.array(soln[i-1])\n",
    "    error2_c1 = np.append(error2_c1, converge_error[0]) #x2 error\n",
    "    error2_c2 = np.append(error2_c2, converge_error[1]) #x3 error\n",
    "    \n",
    "error2 = np.column_stack((error2_c1,error2_c2))\n",
    "iterations = list(range(1,np.size(soln,0))) #just used for x axis on plot\n",
    "\n",
    "#print(error2) #Print error for checking\n",
    "    \n",
    "plt.title(\"Convergence Plot by Variable\")\n",
    "plt.xlabel(\"Iterations\")\n",
    "plt.ylabel(\"Error\")\n",
    "plt.plot(iterations,error2_c1,error2_c2)\n",
    "plt.legend([\"x2 error\", \"x3 error\"], loc = \"lower right\")\n",
    "plt.show()\n"
   ]
  },
  {
   "cell_type": "markdown",
   "id": "ca3659f0",
   "metadata": {},
   "source": [
    "### Problem 3 (10 points) \n",
    "Let $f(x)$ and $g(x)$ be two convex functions defined on the convex set $\\mathcal{X}$. \n",
    "* (5 points) Prove that $af(x)+bg(x)$ is convex for $a>0$ and $b>0$. \n",
    "* (5 points) In what conditions will $f(g(x))$ be convex?"
   ]
  },
  {
   "cell_type": "markdown",
   "id": "07cc1ee1",
   "metadata": {},
   "source": [
    "![q3](HW2img/q3.png)"
   ]
  },
  {
   "cell_type": "markdown",
   "id": "433a389a",
   "metadata": {},
   "source": [
    "### Problem 4 (bonus 10 points)\n",
    "Show that $f({\\bf x}_1) \\geq f(\\textbf{x}_0) + \n",
    "    \\textbf{g}_{\\textbf{x}_0}^T(\\textbf{x}_1-\\textbf{x}_0)$ for a convex function $f(\\textbf{x}): \\mathcal{X} \\rightarrow \\mathbb{R}$ and for $\\textbf{x}_0$, $\\textbf{x}_1 \\in \\mathcal{X}$. "
   ]
  },
  {
   "cell_type": "markdown",
   "id": "a7baa38d",
   "metadata": {},
   "source": [
    "![q4](HW2img/q4.png)"
   ]
  },
  {
   "cell_type": "markdown",
   "id": "collected-carbon",
   "metadata": {},
   "source": [
    "# Design Problems\n",
    "\n",
    "### Problem 5 (20 points) \n",
    "Consider an illumination problem: There are $n$ lamps and $m$ mirrors fixed to the ground. The target reflection intensity level is $I_t$. The actual reflection intensity level on the $k$th mirror can be computed as $\\textbf{a}_k^T \\textbf{p}$, where $\\textbf{a}_k$ is given by the distances between all lamps to the mirror, and $\\textbf{p}:=[p_1,...,p_n]^T$ are the power output of the lamps. The objective is to keep the actual intensity levels as close to the target as possible by tuning the power output $\\textbf{p}$.\n",
    "\n",
    "* (5 points) Formulate this problem as an optimization problem. \n",
    "* (5 points) Is your problem convex?\n",
    "* (5 points) If we require the overall power output of any of the $n$ lamps to be less than $p^*$, will the problem have a unique solution?\n",
    "* (5 points) If we require no more than half of the lamps to be switched on, will the problem have a unique solution?"
   ]
  },
  {
   "cell_type": "markdown",
   "id": "f92ee20d",
   "metadata": {},
   "source": [
    "![q5p1](HW2img/q5p1.png)\n",
    "![q5p2](HW2img/q5p2.png)"
   ]
  },
  {
   "cell_type": "markdown",
   "id": "moderate-twins",
   "metadata": {},
   "source": [
    "# Note\n",
    "\n",
    "For this homework, you may want to attach sketches as means to explain your ideas. Here is how you can attach images.\n",
    "\n",
    "![everly1](img/everly7.jpg)"
   ]
  }
 ],
 "metadata": {
  "kernelspec": {
   "display_name": "Python 3",
   "language": "python",
   "name": "python3"
  },
  "language_info": {
   "codemirror_mode": {
    "name": "ipython",
    "version": 3
   },
   "file_extension": ".py",
   "mimetype": "text/x-python",
   "name": "python",
   "nbconvert_exporter": "python",
   "pygments_lexer": "ipython3",
   "version": "3.8.8"
  }
 },
 "nbformat": 4,
 "nbformat_minor": 5
}
